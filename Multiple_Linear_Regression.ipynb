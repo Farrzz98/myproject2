{
  "nbformat": 4,
  "nbformat_minor": 0,
  "metadata": {
    "colab": {
      "provenance": [],
      "authorship_tag": "ABX9TyOVIMvRVan82FsOCdIR8Vg5",
      "include_colab_link": true
    },
    "kernelspec": {
      "name": "python3",
      "display_name": "Python 3"
    },
    "language_info": {
      "name": "python"
    }
  },
  "cells": [
    {
      "cell_type": "markdown",
      "metadata": {
        "id": "view-in-github",
        "colab_type": "text"
      },
      "source": [
        "<a href=\"https://colab.research.google.com/github/Farrzz98/myproject2/blob/main/Multiple_Linear_Regression.ipynb\" target=\"_parent\"><img src=\"https://colab.research.google.com/assets/colab-badge.svg\" alt=\"Open In Colab\"/></a>"
      ]
    },
    {
      "cell_type": "code",
      "execution_count": 1,
      "metadata": {
        "id": "dY0IBOUsBWA1"
      },
      "outputs": [],
      "source": [
        "# Multiple Linear Regression\n",
        "\n",
        "import numpy as np\n",
        "import pandas as pd\n",
        "import matplotlib.pyplot as plt"
      ]
    },
    {
      "cell_type": "code",
      "source": [
        "data_set = pd.read_csv('https://trello-attachments.s3.amazonaws.com/60596dc01945760f799067c1/60b5bc489a09731a6e9ddfc1/ed38801a05ce72ffb48076f22420c0e2/Startups_Data.csv')\n",
        "data_set.head()"
      ],
      "metadata": {
        "colab": {
          "base_uri": "https://localhost:8080/",
          "height": 206
        },
        "id": "_E1JajvpBi3V",
        "outputId": "d128d4a5-0951-4a92-8813-60ed6cb7ace4"
      },
      "execution_count": null,
      "outputs": [
        {
          "output_type": "execute_result",
          "data": {
            "text/html": [
              "\n",
              "  <div id=\"df-e4d00edd-cca2-44b5-ae8a-2695d6123d9d\">\n",
              "    <div class=\"colab-df-container\">\n",
              "      <div>\n",
              "<style scoped>\n",
              "    .dataframe tbody tr th:only-of-type {\n",
              "        vertical-align: middle;\n",
              "    }\n",
              "\n",
              "    .dataframe tbody tr th {\n",
              "        vertical-align: top;\n",
              "    }\n",
              "\n",
              "    .dataframe thead th {\n",
              "        text-align: right;\n",
              "    }\n",
              "</style>\n",
              "<table border=\"1\" class=\"dataframe\">\n",
              "  <thead>\n",
              "    <tr style=\"text-align: right;\">\n",
              "      <th></th>\n",
              "      <th>R&amp;D Spend</th>\n",
              "      <th>Administration</th>\n",
              "      <th>Marketing Spend</th>\n",
              "      <th>State</th>\n",
              "      <th>Profit</th>\n",
              "    </tr>\n",
              "  </thead>\n",
              "  <tbody>\n",
              "    <tr>\n",
              "      <th>0</th>\n",
              "      <td>165349.20</td>\n",
              "      <td>136897.80</td>\n",
              "      <td>471784.10</td>\n",
              "      <td>New York</td>\n",
              "      <td>192261.83</td>\n",
              "    </tr>\n",
              "    <tr>\n",
              "      <th>1</th>\n",
              "      <td>162597.70</td>\n",
              "      <td>151377.59</td>\n",
              "      <td>443898.53</td>\n",
              "      <td>California</td>\n",
              "      <td>191792.06</td>\n",
              "    </tr>\n",
              "    <tr>\n",
              "      <th>2</th>\n",
              "      <td>153441.51</td>\n",
              "      <td>101145.55</td>\n",
              "      <td>407934.54</td>\n",
              "      <td>Florida</td>\n",
              "      <td>191050.39</td>\n",
              "    </tr>\n",
              "    <tr>\n",
              "      <th>3</th>\n",
              "      <td>144372.41</td>\n",
              "      <td>118671.85</td>\n",
              "      <td>383199.62</td>\n",
              "      <td>New York</td>\n",
              "      <td>182901.99</td>\n",
              "    </tr>\n",
              "    <tr>\n",
              "      <th>4</th>\n",
              "      <td>142107.34</td>\n",
              "      <td>91391.77</td>\n",
              "      <td>366168.42</td>\n",
              "      <td>Florida</td>\n",
              "      <td>166187.94</td>\n",
              "    </tr>\n",
              "  </tbody>\n",
              "</table>\n",
              "</div>\n",
              "      <button class=\"colab-df-convert\" onclick=\"convertToInteractive('df-e4d00edd-cca2-44b5-ae8a-2695d6123d9d')\"\n",
              "              title=\"Convert this dataframe to an interactive table.\"\n",
              "              style=\"display:none;\">\n",
              "        \n",
              "  <svg xmlns=\"http://www.w3.org/2000/svg\" height=\"24px\"viewBox=\"0 0 24 24\"\n",
              "       width=\"24px\">\n",
              "    <path d=\"M0 0h24v24H0V0z\" fill=\"none\"/>\n",
              "    <path d=\"M18.56 5.44l.94 2.06.94-2.06 2.06-.94-2.06-.94-.94-2.06-.94 2.06-2.06.94zm-11 1L8.5 8.5l.94-2.06 2.06-.94-2.06-.94L8.5 2.5l-.94 2.06-2.06.94zm10 10l.94 2.06.94-2.06 2.06-.94-2.06-.94-.94-2.06-.94 2.06-2.06.94z\"/><path d=\"M17.41 7.96l-1.37-1.37c-.4-.4-.92-.59-1.43-.59-.52 0-1.04.2-1.43.59L10.3 9.45l-7.72 7.72c-.78.78-.78 2.05 0 2.83L4 21.41c.39.39.9.59 1.41.59.51 0 1.02-.2 1.41-.59l7.78-7.78 2.81-2.81c.8-.78.8-2.07 0-2.86zM5.41 20L4 18.59l7.72-7.72 1.47 1.35L5.41 20z\"/>\n",
              "  </svg>\n",
              "      </button>\n",
              "      \n",
              "  <style>\n",
              "    .colab-df-container {\n",
              "      display:flex;\n",
              "      flex-wrap:wrap;\n",
              "      gap: 12px;\n",
              "    }\n",
              "\n",
              "    .colab-df-convert {\n",
              "      background-color: #E8F0FE;\n",
              "      border: none;\n",
              "      border-radius: 50%;\n",
              "      cursor: pointer;\n",
              "      display: none;\n",
              "      fill: #1967D2;\n",
              "      height: 32px;\n",
              "      padding: 0 0 0 0;\n",
              "      width: 32px;\n",
              "    }\n",
              "\n",
              "    .colab-df-convert:hover {\n",
              "      background-color: #E2EBFA;\n",
              "      box-shadow: 0px 1px 2px rgba(60, 64, 67, 0.3), 0px 1px 3px 1px rgba(60, 64, 67, 0.15);\n",
              "      fill: #174EA6;\n",
              "    }\n",
              "\n",
              "    [theme=dark] .colab-df-convert {\n",
              "      background-color: #3B4455;\n",
              "      fill: #D2E3FC;\n",
              "    }\n",
              "\n",
              "    [theme=dark] .colab-df-convert:hover {\n",
              "      background-color: #434B5C;\n",
              "      box-shadow: 0px 1px 3px 1px rgba(0, 0, 0, 0.15);\n",
              "      filter: drop-shadow(0px 1px 2px rgba(0, 0, 0, 0.3));\n",
              "      fill: #FFFFFF;\n",
              "    }\n",
              "  </style>\n",
              "\n",
              "      <script>\n",
              "        const buttonEl =\n",
              "          document.querySelector('#df-e4d00edd-cca2-44b5-ae8a-2695d6123d9d button.colab-df-convert');\n",
              "        buttonEl.style.display =\n",
              "          google.colab.kernel.accessAllowed ? 'block' : 'none';\n",
              "\n",
              "        async function convertToInteractive(key) {\n",
              "          const element = document.querySelector('#df-e4d00edd-cca2-44b5-ae8a-2695d6123d9d');\n",
              "          const dataTable =\n",
              "            await google.colab.kernel.invokeFunction('convertToInteractive',\n",
              "                                                     [key], {});\n",
              "          if (!dataTable) return;\n",
              "\n",
              "          const docLinkHtml = 'Like what you see? Visit the ' +\n",
              "            '<a target=\"_blank\" href=https://colab.research.google.com/notebooks/data_table.ipynb>data table notebook</a>'\n",
              "            + ' to learn more about interactive tables.';\n",
              "          element.innerHTML = '';\n",
              "          dataTable['output_type'] = 'display_data';\n",
              "          await google.colab.output.renderOutput(dataTable, element);\n",
              "          const docLink = document.createElement('div');\n",
              "          docLink.innerHTML = docLinkHtml;\n",
              "          element.appendChild(docLink);\n",
              "        }\n",
              "      </script>\n",
              "    </div>\n",
              "  </div>\n",
              "  "
            ],
            "text/plain": [
              "   R&D Spend  Administration  Marketing Spend       State     Profit\n",
              "0  165349.20       136897.80        471784.10    New York  192261.83\n",
              "1  162597.70       151377.59        443898.53  California  191792.06\n",
              "2  153441.51       101145.55        407934.54     Florida  191050.39\n",
              "3  144372.41       118671.85        383199.62    New York  182901.99\n",
              "4  142107.34        91391.77        366168.42     Florida  166187.94"
            ]
          },
          "metadata": {},
          "execution_count": 15
        }
      ]
    },
    {
      "cell_type": "code",
      "source": [
        "data_set.columns"
      ],
      "metadata": {
        "colab": {
          "base_uri": "https://localhost:8080/"
        },
        "id": "z57FNlJaBkiS",
        "outputId": "049bbadd-3387-4112-d903-f71435deca49"
      },
      "execution_count": null,
      "outputs": [
        {
          "output_type": "execute_result",
          "data": {
            "text/plain": [
              "Index(['R&D Spend', 'Administration', 'Marketing Spend', 'State', 'Profit'], dtype='object')"
            ]
          },
          "metadata": {},
          "execution_count": 16
        }
      ]
    },
    {
      "cell_type": "code",
      "source": [
        "# Extracting Independent and Dependent Variable\n",
        "x = data_set.iloc[:,:-1].values\n",
        "y = data_set.Profit.values"
      ],
      "metadata": {
        "id": "3vSbDoR4BmWS"
      },
      "execution_count": null,
      "outputs": []
    },
    {
      "cell_type": "code",
      "source": [
        "# Encoding Dummy Variable\n",
        "# LabelEncoder  OneHotEncoder   ColumnTransformer\n",
        "\n",
        "from sklearn.preprocessing import LabelEncoder , OneHotEncoder\n",
        "from sklearn.compose import ColumnTransformer\n",
        "\n",
        "label_encoder = LabelEncoder()\n",
        "\n",
        "x[:,3] = label_encoder.fit_transform(x[:,3])\n",
        "\n",
        "transformer = ColumnTransformer(\n",
        "    transformers = [(\"OneHot\" , OneHotEncoder() , [3])],\n",
        "    remainder = 'passthrough' # do not apply anything to the remaining columns\n",
        ")\n",
        "\n",
        "x = transformer.fit_transform(x.tolist())\n",
        "x = x.astype(int)"
      ],
      "metadata": {
        "id": "BJpcWl7kBoRL"
      },
      "execution_count": null,
      "outputs": []
    },
    {
      "cell_type": "code",
      "source": [
        "x\n",
        "\n",
        "#   california     florida     newYork   r&d    admin    market\n",
        "#     0               0           1     165349  136897   471784"
      ],
      "metadata": {
        "colab": {
          "base_uri": "https://localhost:8080/"
        },
        "id": "1ZjsQ0LfBrKz",
        "outputId": "1aaf985f-fd6d-4bb5-c0cd-ce45bf019ccb"
      },
      "execution_count": null,
      "outputs": [
        {
          "output_type": "execute_result",
          "data": {
            "text/plain": [
              "array([[     0,      0,      1, 165349, 136897, 471784],\n",
              "       [     1,      0,      0, 162597, 151377, 443898],\n",
              "       [     0,      1,      0, 153441, 101145, 407934],\n",
              "       [     0,      0,      1, 144372, 118671, 383199],\n",
              "       [     0,      1,      0, 142107,  91391, 366168],\n",
              "       [     0,      0,      1, 131876,  99814, 362861],\n",
              "       [     1,      0,      0, 134615, 147198, 127716],\n",
              "       [     0,      1,      0, 130298, 145530, 323876],\n",
              "       [     0,      0,      1, 120542, 148718, 311613],\n",
              "       [     1,      0,      0, 123334, 108679, 304981],\n",
              "       [     0,      1,      0, 101913, 110594, 229160],\n",
              "       [     1,      0,      0, 100671,  91790, 249744],\n",
              "       [     0,      1,      0,  93863, 127320, 249839],\n",
              "       [     1,      0,      0,  91992, 135495, 252664],\n",
              "       [     0,      1,      0, 119943, 156547, 256512],\n",
              "       [     0,      0,      1, 114523, 122616, 261776],\n",
              "       [     1,      0,      0,  78013, 121597, 264346],\n",
              "       [     0,      0,      1,  94657, 145077, 282574],\n",
              "       [     0,      1,      0,  91749, 114175, 294919],\n",
              "       [     0,      0,      1,  86419, 153514,      0],\n",
              "       [     1,      0,      0,  76253, 113867, 298664],\n",
              "       [     0,      0,      1,  78389, 153773, 299737],\n",
              "       [     0,      1,      0,  73994, 122782, 303319],\n",
              "       [     0,      1,      0,  67532, 105751, 304768],\n",
              "       [     0,      0,      1,  77044,  99281, 140574],\n",
              "       [     1,      0,      0,  64664, 139553, 137962],\n",
              "       [     0,      1,      0,  75328, 144135, 134050],\n",
              "       [     0,      0,      1,  72107, 127864, 353183],\n",
              "       [     0,      1,      0,  66051, 182645, 118148],\n",
              "       [     0,      0,      1,  65605, 153032, 107138],\n",
              "       [     0,      1,      0,  61994, 115641,  91131],\n",
              "       [     0,      0,      1,  61136, 152701,  88218],\n",
              "       [     1,      0,      0,  63408, 129219,  46085],\n",
              "       [     0,      1,      0,  55493, 103057, 214634],\n",
              "       [     1,      0,      0,  46426, 157693, 210797],\n",
              "       [     0,      0,      1,  46014,  85047, 205517],\n",
              "       [     0,      1,      0,  28663, 127056, 201126],\n",
              "       [     1,      0,      0,  44069,  51283, 197029],\n",
              "       [     0,      0,      1,  20229,  65947, 185265],\n",
              "       [     1,      0,      0,  38558,  82982, 174999],\n",
              "       [     1,      0,      0,  28754, 118546, 172795],\n",
              "       [     0,      1,      0,  27892,  84710, 164470],\n",
              "       [     1,      0,      0,  23640,  96189, 148001],\n",
              "       [     0,      0,      1,  15505, 127382,  35534],\n",
              "       [     1,      0,      0,  22177, 154806,  28334],\n",
              "       [     0,      0,      1,   1000, 124153,   1903],\n",
              "       [     0,      1,      0,   1315, 115816, 297114],\n",
              "       [     1,      0,      0,      0, 135426,      0],\n",
              "       [     0,      0,      1,    542,  51743,      0],\n",
              "       [     1,      0,      0,      0, 116983,  45173]])"
            ]
          },
          "metadata": {},
          "execution_count": 19
        }
      ]
    },
    {
      "cell_type": "code",
      "source": [
        "# Split The Dataset Into Training and Testing Subset\n",
        "from sklearn.model_selection import train_test_split\n",
        "# test_size = 0.2 means we are using 20% of Data for testing\n",
        "# and rest 80% of data will be used for Training\n",
        "x_train , x_test , y_train , y_test = train_test_split(x,y,test_size=0.2,random_state=0)"
      ],
      "metadata": {
        "id": "kfPa6bXuBtyC"
      },
      "execution_count": null,
      "outputs": []
    },
    {
      "cell_type": "code",
      "source": [
        "print(x.shape)\n",
        "print(x_train.shape)\n",
        "print(x_test.shape)\n",
        "\n",
        "print(y.shape)\n",
        "print(y_train.shape)\n",
        "print(y_test.shape)"
      ],
      "metadata": {
        "colab": {
          "base_uri": "https://localhost:8080/"
        },
        "id": "4cwO4FbrB1Xa",
        "outputId": "4a2a1b21-2744-49ac-d027-ac9a0a5de9f9"
      },
      "execution_count": null,
      "outputs": [
        {
          "output_type": "stream",
          "name": "stdout",
          "text": [
            "(50, 6)\n",
            "(40, 6)\n",
            "(10, 6)\n",
            "(50,)\n",
            "(40,)\n",
            "(10,)\n"
          ]
        }
      ]
    },
    {
      "cell_type": "code",
      "source": [
        "# Fit The Model\n",
        "\n",
        "from sklearn.linear_model import LinearRegression\n",
        "mlr = LinearRegression()\n",
        "mlr.fit(x_train,y_train)"
      ],
      "metadata": {
        "colab": {
          "base_uri": "https://localhost:8080/"
        },
        "id": "s94u9Gv6B3cS",
        "outputId": "e2bfc570-349a-498c-f208-cfcff376aa7a"
      },
      "execution_count": null,
      "outputs": [
        {
          "output_type": "execute_result",
          "data": {
            "text/plain": [
              "LinearRegression()"
            ]
          },
          "metadata": {},
          "execution_count": 22
        }
      ]
    },
    {
      "cell_type": "code",
      "source": [
        "# evaluate our model performance\n",
        "from sklearn.metrics import r2_score\n",
        "accuracy = r2_score(y_test , mlr.predict(x_test))\n",
        "print(accuracy)"
      ],
      "metadata": {
        "colab": {
          "base_uri": "https://localhost:8080/"
        },
        "id": "_sNpXxhwB5c7",
        "outputId": "4acd7339-4c81-43ec-d5bf-2e5c9ae94a6f"
      },
      "execution_count": null,
      "outputs": [
        {
          "output_type": "stream",
          "name": "stdout",
          "text": [
            "0.9347065984136423\n"
          ]
        }
      ]
    },
    {
      "cell_type": "code",
      "source": [
        "# Predict Profit\n",
        "\n",
        "california = int(input('Are You From California. Enter 1 If Yes Else 0 : '))\n",
        "florida = int(input('Are You From Florida. Enter 1 If Yes Else 0 : '))\n",
        "newYork = int(input('Are You From New York. Enter 1 If Yes Else 0 : '))\n",
        "r_d = int(input('Enter Research And Development Spend : '))\n",
        "admin = int(input('Enter Administration Spend : '))\n",
        "market = int(input('Enter Marketing Spend : '))\n",
        "\n",
        "data = {'california':california , 'florida':florida ,\n",
        "        'newYork':newYork , 'r_d':r_d ,\n",
        "        'admin':admin , 'market':market}\n",
        "\n",
        "user_input = pd.DataFrame(data,index=[0],columns=['california','florida','newYork',\n",
        "                                        'r_d','admin','market'])"
      ],
      "metadata": {
        "id": "CIBAHdabB7Fy",
        "colab": {
          "base_uri": "https://localhost:8080/"
        },
        "outputId": "ad9f0e7c-c4e2-44a6-9be7-77be10d8572c"
      },
      "execution_count": null,
      "outputs": [
        {
          "name": "stdout",
          "output_type": "stream",
          "text": [
            "Are You From California. Enter 1 If Yes Else 0 : 1\n",
            "Are You From Florida. Enter 1 If Yes Else 0 : 0\n",
            "Are You From New York. Enter 1 If Yes Else 0 : 0\n",
            "Enter Research And Development Spend : 200\n",
            "Enter Administration Spend : 300\n",
            "Enter Marketing Spend : 500\n"
          ]
        }
      ]
    },
    {
      "cell_type": "code",
      "source": [
        "user_input"
      ],
      "metadata": {
        "id": "hU6e4bwhB8_7",
        "colab": {
          "base_uri": "https://localhost:8080/",
          "height": 81
        },
        "outputId": "4dbbeb2e-3ad1-4dc9-c047-02ef924414a7"
      },
      "execution_count": null,
      "outputs": [
        {
          "output_type": "execute_result",
          "data": {
            "text/html": [
              "\n",
              "  <div id=\"df-5ca28e15-8a11-4313-98e0-93c4cbcfa5d4\">\n",
              "    <div class=\"colab-df-container\">\n",
              "      <div>\n",
              "<style scoped>\n",
              "    .dataframe tbody tr th:only-of-type {\n",
              "        vertical-align: middle;\n",
              "    }\n",
              "\n",
              "    .dataframe tbody tr th {\n",
              "        vertical-align: top;\n",
              "    }\n",
              "\n",
              "    .dataframe thead th {\n",
              "        text-align: right;\n",
              "    }\n",
              "</style>\n",
              "<table border=\"1\" class=\"dataframe\">\n",
              "  <thead>\n",
              "    <tr style=\"text-align: right;\">\n",
              "      <th></th>\n",
              "      <th>california</th>\n",
              "      <th>florida</th>\n",
              "      <th>newYork</th>\n",
              "      <th>r_d</th>\n",
              "      <th>admin</th>\n",
              "      <th>market</th>\n",
              "    </tr>\n",
              "  </thead>\n",
              "  <tbody>\n",
              "    <tr>\n",
              "      <th>0</th>\n",
              "      <td>1</td>\n",
              "      <td>0</td>\n",
              "      <td>0</td>\n",
              "      <td>200</td>\n",
              "      <td>300</td>\n",
              "      <td>500</td>\n",
              "    </tr>\n",
              "  </tbody>\n",
              "</table>\n",
              "</div>\n",
              "      <button class=\"colab-df-convert\" onclick=\"convertToInteractive('df-5ca28e15-8a11-4313-98e0-93c4cbcfa5d4')\"\n",
              "              title=\"Convert this dataframe to an interactive table.\"\n",
              "              style=\"display:none;\">\n",
              "        \n",
              "  <svg xmlns=\"http://www.w3.org/2000/svg\" height=\"24px\"viewBox=\"0 0 24 24\"\n",
              "       width=\"24px\">\n",
              "    <path d=\"M0 0h24v24H0V0z\" fill=\"none\"/>\n",
              "    <path d=\"M18.56 5.44l.94 2.06.94-2.06 2.06-.94-2.06-.94-.94-2.06-.94 2.06-2.06.94zm-11 1L8.5 8.5l.94-2.06 2.06-.94-2.06-.94L8.5 2.5l-.94 2.06-2.06.94zm10 10l.94 2.06.94-2.06 2.06-.94-2.06-.94-.94-2.06-.94 2.06-2.06.94z\"/><path d=\"M17.41 7.96l-1.37-1.37c-.4-.4-.92-.59-1.43-.59-.52 0-1.04.2-1.43.59L10.3 9.45l-7.72 7.72c-.78.78-.78 2.05 0 2.83L4 21.41c.39.39.9.59 1.41.59.51 0 1.02-.2 1.41-.59l7.78-7.78 2.81-2.81c.8-.78.8-2.07 0-2.86zM5.41 20L4 18.59l7.72-7.72 1.47 1.35L5.41 20z\"/>\n",
              "  </svg>\n",
              "      </button>\n",
              "      \n",
              "  <style>\n",
              "    .colab-df-container {\n",
              "      display:flex;\n",
              "      flex-wrap:wrap;\n",
              "      gap: 12px;\n",
              "    }\n",
              "\n",
              "    .colab-df-convert {\n",
              "      background-color: #E8F0FE;\n",
              "      border: none;\n",
              "      border-radius: 50%;\n",
              "      cursor: pointer;\n",
              "      display: none;\n",
              "      fill: #1967D2;\n",
              "      height: 32px;\n",
              "      padding: 0 0 0 0;\n",
              "      width: 32px;\n",
              "    }\n",
              "\n",
              "    .colab-df-convert:hover {\n",
              "      background-color: #E2EBFA;\n",
              "      box-shadow: 0px 1px 2px rgba(60, 64, 67, 0.3), 0px 1px 3px 1px rgba(60, 64, 67, 0.15);\n",
              "      fill: #174EA6;\n",
              "    }\n",
              "\n",
              "    [theme=dark] .colab-df-convert {\n",
              "      background-color: #3B4455;\n",
              "      fill: #D2E3FC;\n",
              "    }\n",
              "\n",
              "    [theme=dark] .colab-df-convert:hover {\n",
              "      background-color: #434B5C;\n",
              "      box-shadow: 0px 1px 3px 1px rgba(0, 0, 0, 0.15);\n",
              "      filter: drop-shadow(0px 1px 2px rgba(0, 0, 0, 0.3));\n",
              "      fill: #FFFFFF;\n",
              "    }\n",
              "  </style>\n",
              "\n",
              "      <script>\n",
              "        const buttonEl =\n",
              "          document.querySelector('#df-5ca28e15-8a11-4313-98e0-93c4cbcfa5d4 button.colab-df-convert');\n",
              "        buttonEl.style.display =\n",
              "          google.colab.kernel.accessAllowed ? 'block' : 'none';\n",
              "\n",
              "        async function convertToInteractive(key) {\n",
              "          const element = document.querySelector('#df-5ca28e15-8a11-4313-98e0-93c4cbcfa5d4');\n",
              "          const dataTable =\n",
              "            await google.colab.kernel.invokeFunction('convertToInteractive',\n",
              "                                                     [key], {});\n",
              "          if (!dataTable) return;\n",
              "\n",
              "          const docLinkHtml = 'Like what you see? Visit the ' +\n",
              "            '<a target=\"_blank\" href=https://colab.research.google.com/notebooks/data_table.ipynb>data table notebook</a>'\n",
              "            + ' to learn more about interactive tables.';\n",
              "          element.innerHTML = '';\n",
              "          dataTable['output_type'] = 'display_data';\n",
              "          await google.colab.output.renderOutput(dataTable, element);\n",
              "          const docLink = document.createElement('div');\n",
              "          docLink.innerHTML = docLinkHtml;\n",
              "          element.appendChild(docLink);\n",
              "        }\n",
              "      </script>\n",
              "    </div>\n",
              "  </div>\n",
              "  "
            ],
            "text/plain": [
              "   california  florida  newYork  r_d  admin  market\n",
              "0           1        0        0  200    300     500"
            ]
          },
          "metadata": {},
          "execution_count": 30
        }
      ]
    },
    {
      "cell_type": "code",
      "source": [
        "predict_profit = mlr.predict(user_input)\n",
        "print(\"Profit For Startup Will Be :\",predict_profit[0])"
      ],
      "metadata": {
        "id": "F2rAFg0NB-3L",
        "colab": {
          "base_uri": "https://localhost:8080/"
        },
        "outputId": "62354e10-f996-46fb-d19a-dc761528e543"
      },
      "execution_count": null,
      "outputs": [
        {
          "output_type": "stream",
          "name": "stdout",
          "text": [
            "Profit For Startup Will Be : 42737.39736398556\n"
          ]
        },
        {
          "output_type": "stream",
          "name": "stderr",
          "text": [
            "/usr/local/lib/python3.7/dist-packages/sklearn/base.py:439: UserWarning: X has feature names, but LinearRegression was fitted without feature names\n",
            "  f\"X has feature names, but {self.__class__.__name__} was fitted without\"\n"
          ]
        }
      ]
    }
  ]
}